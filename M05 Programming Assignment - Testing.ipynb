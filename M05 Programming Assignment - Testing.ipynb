{
 "cells": [
  {
   "cell_type": "markdown",
   "id": "240ecce6",
   "metadata": {},
   "source": [
    "M05 Programming Assignment - Testing"
   ]
  },
  {
   "cell_type": "code",
   "execution_count": 29,
   "id": "6cf70554",
   "metadata": {},
   "outputs": [
    {
     "name": "stderr",
     "output_type": "stream",
     "text": [
      "E\n",
      "======================================================================\n",
      "ERROR: C:\\Users\\Alex Dammann\\AppData\\Roaming\\jupyter\\runtime\\kernel-540bf849-e192-47bc-9e4b-7e651e9e7128 (unittest.loader._FailedTest)\n",
      "----------------------------------------------------------------------\n",
      "AttributeError: module '__main__' has no attribute 'C:\\Users\\Alex Dammann\\AppData\\Roaming\\jupyter\\runtime\\kernel-540bf849-e192-47bc-9e4b-7e651e9e7128'\n",
      "\n",
      "----------------------------------------------------------------------\n",
      "Ran 1 test in 0.001s\n",
      "\n",
      "FAILED (errors=1)\n"
     ]
    },
    {
     "ename": "SystemExit",
     "evalue": "True",
     "output_type": "error",
     "traceback": [
      "An exception has occurred, use %tb to see the full traceback.\n",
      "\u001b[1;31mSystemExit\u001b[0m\u001b[1;31m:\u001b[0m True\n"
     ]
    },
    {
     "name": "stderr",
     "output_type": "stream",
     "text": [
      "C:\\Anaconda\\lib\\site-packages\\IPython\\core\\interactiveshell.py:3377: UserWarning: To exit: use 'exit', 'quit', or Ctrl-D.\n",
      "  warn(\"To exit: use 'exit', 'quit', or Ctrl-D.\", stacklevel=1)\n"
     ]
    }
   ],
   "source": [
    "import unittest\n",
    "__spec__ = None\n",
    "from Project import my_sum\n",
    "\n",
    "class TestSum(unittest.TestCase):\n",
    "    def test_list_int(self):\n",
    "        \"\"\"\n",
    "        Test that it can sum a list of integers\n",
    "        \"\"\"\n",
    "        data = [1, 2, 3]\n",
    "        result = sum(data)\n",
    "        self.assertEqual(result, 6)\n",
    "\n",
    "    def test_list_fraction(self):\n",
    "        \"\"\"\n",
    "        Test that it can sum a list of fractions\n",
    "        \"\"\"\n",
    "        data = [Fraction(1, 4), Fraction(1, 4), Fraction(2, 5)]\n",
    "        result = sum(data)\n",
    "        self.assertEqual(result, 1)\n",
    "\n",
    "if __name__ == '__main__':\n",
    "    unittest.main()"
   ]
  },
  {
   "cell_type": "markdown",
   "id": "7793f0ec",
   "metadata": {},
   "source": [
    "The test results on Jyupter notebook are bugged because Jupyter notebooks uses the \"__main__\" module from Anaconda and not the \"__main__\" from the python files. Running this code in an actual code editor wil produce different results. I dont know why it works that way but this is what I found online about the issue."
   ]
  },
  {
   "cell_type": "markdown",
   "id": "84751a0c",
   "metadata": {},
   "source": [
    "The actual code will produce the following:"
   ]
  },
  {
   "cell_type": "raw",
   "id": "14eee391",
   "metadata": {},
   "source": [
    "ERROR: test_list_fraction (__main__.TestSum)\n",
    "Test that it can sum a list of fractions\n",
    "----------------------------------------------------------------------\n",
    "Traceback (most recent call last):\n",
    "  File \"c:\\Users\\Alex Dammann\\Project\\test.py\", line 19, in test_list_fraction\n",
    "    data = [Fraction(1, 4), Fraction(1, 4), Fraction(2, 5)]\n",
    "NameError: name 'Fraction' is not defined\n",
    "\n",
    "----------------------------------------------------------------------\n",
    "Ran 2 tests in 0.001s\n",
    "\n",
    "FAILED (errors=1)"
   ]
  },
  {
   "cell_type": "markdown",
   "id": "cd4d4361",
   "metadata": {},
   "source": [
    "These show that 2 tests were ran. The sum for integer test passed but the sum for fraction test failed. This is because the the sum of 1/4, 1/4, and 2/5 is not 1. If we were to change the values to equal 1, The test would pass and the \"FAILED (errors=1)\" wouldnt be there."
   ]
  }
 ],
 "metadata": {
  "kernelspec": {
   "display_name": "Python 3 (ipykernel)",
   "language": "python",
   "name": "python3"
  },
  "language_info": {
   "codemirror_mode": {
    "name": "ipython",
    "version": 3
   },
   "file_extension": ".py",
   "mimetype": "text/x-python",
   "name": "python",
   "nbconvert_exporter": "python",
   "pygments_lexer": "ipython3",
   "version": "3.9.12"
  }
 },
 "nbformat": 4,
 "nbformat_minor": 5
}
