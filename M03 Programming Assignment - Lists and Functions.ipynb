{
 "cells": [
  {
   "cell_type": "raw",
   "id": "91a57439",
   "metadata": {},
   "source": [
    "Section 7.4:"
   ]
  },
  {
   "cell_type": "code",
   "execution_count": 2,
   "id": "978682d7",
   "metadata": {},
   "outputs": [
    {
     "data": {
      "text/plain": [
       "['mozzarella', 'cinderella', 'salmonella']"
      ]
     },
     "execution_count": 2,
     "metadata": {},
     "output_type": "execute_result"
    }
   ],
   "source": [
    "things = list(['mozzarella', 'cinderella','salmonella'])\n",
    "things"
   ]
  },
  {
   "cell_type": "raw",
   "id": "b82e6d41",
   "metadata": {},
   "source": [
    "Section 7.5:"
   ]
  },
  {
   "cell_type": "code",
   "execution_count": 3,
   "id": "7943d76d",
   "metadata": {},
   "outputs": [
    {
     "name": "stdout",
     "output_type": "stream",
     "text": [
      "Mozzarella\n",
      "Cinderella\n",
      "Salmonella\n"
     ]
    },
    {
     "data": {
      "text/plain": [
       "['mozzarella', 'cinderella', 'salmonella']"
      ]
     },
     "execution_count": 3,
     "metadata": {},
     "output_type": "execute_result"
    }
   ],
   "source": [
    "for i in things:\n",
    "    print(i.capitalize())\n",
    "things"
   ]
  },
  {
   "cell_type": "raw",
   "id": "a20bb315",
   "metadata": {},
   "source": [
    "Section 7.6:"
   ]
  },
  {
   "cell_type": "code",
   "execution_count": 5,
   "id": "0feedbec",
   "metadata": {},
   "outputs": [
    {
     "name": "stdout",
     "output_type": "stream",
     "text": [
      "MOZZARELLA\n",
      "CINDERELLA\n",
      "SALMONELLA\n"
     ]
    }
   ],
   "source": [
    "for i in things:\n",
    "    print(i.upper())"
   ]
  },
  {
   "cell_type": "raw",
   "id": "0600e643",
   "metadata": {},
   "source": [
    "Section 7.7:"
   ]
  },
  {
   "cell_type": "code",
   "execution_count": 7,
   "id": "8061cf1b",
   "metadata": {},
   "outputs": [
    {
     "name": "stdout",
     "output_type": "stream",
     "text": [
      "{'mozzarella', 'salmonella', 'cinderella'}\n"
     ]
    }
   ],
   "source": [
    "nobel_prize = set(things)\n",
    "print(nobel_prize)"
   ]
  },
  {
   "cell_type": "raw",
   "id": "789019ba",
   "metadata": {},
   "source": [
    "Section 9.1"
   ]
  },
  {
   "cell_type": "code",
   "execution_count": 8,
   "id": "36176148",
   "metadata": {},
   "outputs": [
    {
     "name": "stdout",
     "output_type": "stream",
     "text": [
      "['Harry', 'Ron', 'Hermione']\n"
     ]
    }
   ],
   "source": [
    "def good():\n",
    "    return [\"Harry\", \"Ron\", \"Hermione\"]\n",
    "print(good())"
   ]
  },
  {
   "cell_type": "raw",
   "id": "8c22c54d",
   "metadata": {},
   "source": [
    "Section 9.2"
   ]
  },
  {
   "cell_type": "code",
   "execution_count": 11,
   "id": "1ff83d7e",
   "metadata": {},
   "outputs": [
    {
     "name": "stdout",
     "output_type": "stream",
     "text": [
      "5\n"
     ]
    }
   ],
   "source": [
    "def get_odds():\n",
    "    for odd_num in range(10):\n",
    "        if odd_num % 2 == 1:\n",
    "            yield odd_num\n",
    "for e, i in enumerate(get_odds()):\n",
    "        if e == 2:\n",
    "            print(i)\n",
    "            break"
   ]
  }
 ],
 "metadata": {
  "kernelspec": {
   "display_name": "Python 3 (ipykernel)",
   "language": "python",
   "name": "python3"
  },
  "language_info": {
   "codemirror_mode": {
    "name": "ipython",
    "version": 3
   },
   "file_extension": ".py",
   "mimetype": "text/x-python",
   "name": "python",
   "nbconvert_exporter": "python",
   "pygments_lexer": "ipython3",
   "version": "3.9.12"
  }
 },
 "nbformat": 4,
 "nbformat_minor": 5
}
